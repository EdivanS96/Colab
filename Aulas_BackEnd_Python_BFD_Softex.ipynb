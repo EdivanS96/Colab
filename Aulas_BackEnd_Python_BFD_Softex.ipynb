{
  "nbformat": 4,
  "nbformat_minor": 0,
  "metadata": {
    "colab": {
      "provenance": [],
      "include_colab_link": true
    },
    "kernelspec": {
      "name": "python3",
      "display_name": "Python 3"
    },
    "language_info": {
      "name": "python"
    }
  },
  "cells": [
    {
      "cell_type": "markdown",
      "metadata": {
        "id": "view-in-github",
        "colab_type": "text"
      },
      "source": [
        "<a href=\"https://colab.research.google.com/github/EdivanS96/Colab/blob/main/Aulas_BackEnd_Python_BFD_Softex.ipynb\" target=\"_parent\"><img src=\"https://colab.research.google.com/assets/colab-badge.svg\" alt=\"Open In Colab\"/></a>"
      ]
    },
    {
      "cell_type": "code",
      "execution_count": null,
      "metadata": {
        "colab": {
          "base_uri": "https://localhost:8080/"
        },
        "id": "6DgR6dfDuwRV",
        "outputId": "ecd98f7a-1d38-486c-bd99-23274c6a7aeb"
      },
      "outputs": [
        {
          "output_type": "stream",
          "name": "stdout",
          "text": [
            "Olá Mundo\n",
            "8\n",
            "45\n",
            "1.54\n",
            "Irineu\n",
            "True\n",
            "<class 'int'>\n",
            "<class 'float'>\n",
            "<class 'str'>\n",
            "<class 'bool'>\n"
          ]
        }
      ],
      "source": [
        "print(\"Olá Mundo\")\n",
        "print(5+3)\n",
        "\n",
        "\n",
        "#Definindo VAR:idade = 30 #intaltura = 1.54 #floatnome = \"Maria\" # srtmaior_de_idade = True # bool\n",
        "print(idade)\n",
        "print(altura)\n",
        "print(nome)\n",
        "print(maior_de_idade)\n",
        "\n",
        "print(type(idade))\n",
        "print(type(altura))\n",
        "print(type(nome))\n",
        "print(type(maior_de_idade))"
      ]
    },
    {
      "cell_type": "code",
      "source": [
        "#EXERCICIO 1:\n",
        "nome = input(\"Digite seu nome: \")\n",
        "idade = int(input(\"Digite sua Idade: \"))\n",
        "print(nome,\"tem\",idade,\"anos\")\n"
      ],
      "metadata": {
        "colab": {
          "base_uri": "https://localhost:8080/"
        },
        "id": "Dzf9zpPR2gAi",
        "outputId": "7b9a6efb-3b1a-45e4-96d8-bc1bbaa3b4c7"
      },
      "execution_count": null,
      "outputs": [
        {
          "output_type": "stream",
          "name": "stdout",
          "text": [
            "Digite seu nome: João\n",
            "Digite sua Idade: 15\n",
            "João tem 15 anos\n"
          ]
        }
      ]
    },
    {
      "cell_type": "code",
      "source": [
        "#EXERCICIO 2:\n",
        "\n",
        "def somar(numero1,numero2):\n",
        "    return numero1 + numero2;\n",
        "\n",
        "print(\"Calculadora basica\")\n",
        "\n",
        "numero1 = float(input(\"Informe o primeiro número:\"))\n",
        "numero2 = float(input(\"Informe o segundo número:\"))\n",
        "\n",
        "print(\"RESULTADO:\", somar(numero1,numero2))"
      ],
      "metadata": {
        "colab": {
          "base_uri": "https://localhost:8080/"
        },
        "id": "fDk28_dK5uNp",
        "outputId": "7871f780-5455-4c38-e3b1-be86e89c0ba7"
      },
      "execution_count": null,
      "outputs": [
        {
          "output_type": "stream",
          "name": "stdout",
          "text": [
            "Calculadora basica\n",
            "Informe o primeiro número:5\n",
            "Informe o segundo número:4\n",
            "RESULTADO: 9.0\n"
          ]
        }
      ]
    },
    {
      "cell_type": "code",
      "source": [
        "#EXERCICIO 3:\n",
        "\n",
        "def somar(numero1, numero2):\n",
        "  return numero1 + numero2;\n",
        "\n",
        "def subtrair(numero1, numero2):\n",
        "  return numero1 - numero2;\n",
        "\n",
        "def multiplicar(numero1, numero2):\n",
        "  return numero1 * numero2;\n",
        "\n",
        "def dividir(numero1, numero2):\n",
        "  if numero2 == 0:\n",
        "    return \"Erro\"\n",
        "  return numero1 / numero2;\n",
        "\n",
        "\n",
        "print(\"Escolha uma operação:\")\n",
        "print(\"1 para Somar\")\n",
        "print(\"2 para Subtrair\")\n",
        "print(\"3 para Multiplicar\")\n",
        "print(\"4 para Dividir\")\n",
        "\n",
        "ope = int(input(\"Digite o número da operação:\"))\n",
        "\n",
        "numero1=float(input(\"Informe o primeiro número:\"))\n",
        "numero2=float(input(\"Informe o segundo número:\"))\n",
        "\n",
        "resultado = ope\n",
        "if ope == 1:\n",
        "  resultado = somar(numero1, numero2)\n",
        "elif ope == 2:\n",
        "  resultado = subtrair(numero1, numero2)\n",
        "elif ope == 3:\n",
        "  resultado = multiplicar(numero1, numero2)\n",
        "elif ope == 4:\n",
        "  resultado = dividir(numero1, numero2)\n",
        "else:\n",
        "  resultado = \"Erro divisão por ZERO\";\n",
        "\n",
        "\n",
        "print(\"RESULTADO:\", resultado)\n",
        "\n",
        "\n",
        "\n"
      ],
      "metadata": {
        "colab": {
          "base_uri": "https://localhost:8080/"
        },
        "id": "Nt5YkylP7y6p",
        "outputId": "853f512e-9a8a-457e-8992-49adc99e9411"
      },
      "execution_count": null,
      "outputs": [
        {
          "output_type": "stream",
          "name": "stdout",
          "text": [
            "Escolha uma operação:\n",
            "1 para Somar\n",
            "2 para Subtrair\n",
            "3 para Multiplicar\n",
            "4 para Dividir\n",
            "Digite o número da operação:4\n",
            "Informe o primeiro número:5\n",
            "Informe o segundo número:2\n",
            "RESULTADO: 2.5\n"
          ]
        }
      ]
    },
    {
      "cell_type": "code",
      "source": [
        "# AULA 4 - Criação de laços e repetições\n",
        "\n",
        "#RANGE:\n",
        "\n",
        "#função range: , range(fim),range(inico,fim), range(inicio,fim,pulando)\n",
        "for i in range(2,10,2):\n",
        "  print(\"i\",i)\n",
        "\n",
        "nome = \"João\"\n",
        "idade = 45\n",
        "\n",
        "print(f\"Nome: {nome} e Idade: {idade}\")"
      ],
      "metadata": {
        "colab": {
          "base_uri": "https://localhost:8080/"
        },
        "id": "Je4K8ZJFFCfd",
        "outputId": "1571f009-727f-41f6-dd80-2ea480216385"
      },
      "execution_count": null,
      "outputs": [
        {
          "output_type": "stream",
          "name": "stdout",
          "text": [
            "i 2\n",
            "i 4\n",
            "i 6\n",
            "i 8\n",
            "Nome: João e Idade: 45\n"
          ]
        }
      ]
    },
    {
      "cell_type": "code",
      "source": [
        "#TAREFA DE CASA (Calculadora Média)\n",
        "\n",
        "nota1 = float(input(\"Digite a nota 1:\"))\n",
        "nota2 = float(input(\"Digite a nota 2:\"))\n",
        "nota3 = float(input(\"Digite a nota 3:\"))\n",
        "\n",
        "media = (nota1 + nota2 + nota3)/3\n",
        "\n",
        "print(\"Média Final:\", media)\n",
        "\n",
        "if media < 7:\n",
        "  print(\"Aluno Reprovado\")\n",
        "else: print(\"Aluno Aprovado\")"
      ],
      "metadata": {
        "id": "-x12gdzEMur-",
        "colab": {
          "base_uri": "https://localhost:8080/"
        },
        "outputId": "3c437350-d385-4647-ec72-2ca301c7cc9e"
      },
      "execution_count": null,
      "outputs": [
        {
          "output_type": "stream",
          "name": "stdout",
          "text": [
            "Digite a nota 1:10\n",
            "Digite a nota 2:10\n",
            "Digite a nota 3:7\n",
            "Média Final: 9.0\n",
            "Aluno Aprovado\n"
          ]
        }
      ]
    },
    {
      "cell_type": "code",
      "source": [
        "#AULA 5 - 22/08/2025\n",
        "\n",
        "#PODE VOTAR?\n",
        "\n",
        "print(\"PODE VOTAR?\")\n",
        "nome = input(\"Seu nome:\")\n",
        "idade = int(input(\"Digite sua idade:\"))\n",
        "\n",
        "if idade >= 16:\n",
        "  print(f\"{nome}, você pode votar\")\n",
        "else:\n",
        "  print(f\"{nome}, você NÃO pode votar\")"
      ],
      "metadata": {
        "id": "NY2aVou175dx",
        "colab": {
          "base_uri": "https://localhost:8080/"
        },
        "outputId": "f1b543b2-a6ef-4603-b348-d3c2e081d758"
      },
      "execution_count": null,
      "outputs": [
        {
          "output_type": "stream",
          "name": "stdout",
          "text": [
            "PODE VOTAR?\n",
            "Seu nome:Edivan\n",
            "Digite sua idade:45\n",
            "Edivan, você pode votar\n"
          ]
        }
      ]
    },
    {
      "cell_type": "code",
      "source": [
        "# AULA 5 - Apicação de laços\n",
        "\n",
        "#RANGE:\n",
        "numero = int(input(\"Digite um número:\"))\n",
        "contador = 1\n",
        "\n",
        "while(contador <= 10):\n",
        "  print(f\"{numero} x {contador} = {numero * contador}\")\n",
        "  contador = contador + 1"
      ],
      "metadata": {
        "colab": {
          "base_uri": "https://localhost:8080/"
        },
        "id": "ogi5-R3tAeXF",
        "outputId": "7eaea7ff-3ea3-4cfe-aeef-91c43b72ed2b"
      },
      "execution_count": null,
      "outputs": [
        {
          "output_type": "stream",
          "name": "stdout",
          "text": [
            "Digite um número:15\n",
            "15 x 1 = 15\n",
            "15 x 2 = 30\n",
            "15 x 3 = 45\n",
            "15 x 4 = 60\n",
            "15 x 5 = 75\n",
            "15 x 6 = 90\n",
            "15 x 7 = 105\n",
            "15 x 8 = 120\n",
            "15 x 9 = 135\n",
            "15 x 10 = 150\n"
          ]
        }
      ]
    },
    {
      "cell_type": "code",
      "source": [
        "# AULA 5 - Crição de um programa que conte de 1 a 100 e exiba apenas os numeros pares:\n",
        "\n",
        "#função range: , range(fim); range(inico,fim); range(inicio,fim,pulando)\n",
        "for i in range(2,102,2):\n",
        "  print(\"Número par de 1 a 100:\",i)"
      ],
      "metadata": {
        "colab": {
          "base_uri": "https://localhost:8080/"
        },
        "id": "YFcLPK12FR5z",
        "outputId": "1ce4bade-2424-4ca2-9fa5-cdc314868dc6"
      },
      "execution_count": null,
      "outputs": [
        {
          "output_type": "stream",
          "name": "stdout",
          "text": [
            "Número par de 1 a 100: 2\n",
            "Número par de 1 a 100: 4\n",
            "Número par de 1 a 100: 6\n",
            "Número par de 1 a 100: 8\n",
            "Número par de 1 a 100: 10\n",
            "Número par de 1 a 100: 12\n",
            "Número par de 1 a 100: 14\n",
            "Número par de 1 a 100: 16\n",
            "Número par de 1 a 100: 18\n",
            "Número par de 1 a 100: 20\n",
            "Número par de 1 a 100: 22\n",
            "Número par de 1 a 100: 24\n",
            "Número par de 1 a 100: 26\n",
            "Número par de 1 a 100: 28\n",
            "Número par de 1 a 100: 30\n",
            "Número par de 1 a 100: 32\n",
            "Número par de 1 a 100: 34\n",
            "Número par de 1 a 100: 36\n",
            "Número par de 1 a 100: 38\n",
            "Número par de 1 a 100: 40\n",
            "Número par de 1 a 100: 42\n",
            "Número par de 1 a 100: 44\n",
            "Número par de 1 a 100: 46\n",
            "Número par de 1 a 100: 48\n",
            "Número par de 1 a 100: 50\n",
            "Número par de 1 a 100: 52\n",
            "Número par de 1 a 100: 54\n",
            "Número par de 1 a 100: 56\n",
            "Número par de 1 a 100: 58\n",
            "Número par de 1 a 100: 60\n",
            "Número par de 1 a 100: 62\n",
            "Número par de 1 a 100: 64\n",
            "Número par de 1 a 100: 66\n",
            "Número par de 1 a 100: 68\n",
            "Número par de 1 a 100: 70\n",
            "Número par de 1 a 100: 72\n",
            "Número par de 1 a 100: 74\n",
            "Número par de 1 a 100: 76\n",
            "Número par de 1 a 100: 78\n",
            "Número par de 1 a 100: 80\n",
            "Número par de 1 a 100: 82\n",
            "Número par de 1 a 100: 84\n",
            "Número par de 1 a 100: 86\n",
            "Número par de 1 a 100: 88\n",
            "Número par de 1 a 100: 90\n",
            "Número par de 1 a 100: 92\n",
            "Número par de 1 a 100: 94\n",
            "Número par de 1 a 100: 96\n",
            "Número par de 1 a 100: 98\n",
            "Número par de 1 a 100: 100\n"
          ]
        }
      ]
    },
    {
      "cell_type": "code",
      "source": [
        "# AULA 5 - Verificar palíndromo (ignorando espaços e maiúsculas):\n",
        "texto = input(\"Digite uma palavra: \")\n",
        "\n",
        "#resplace(Substituir), lower(Minusculo)\n",
        "texto_normal = texto.replace(\" \", \"\").lower()#Normalizando a palavra\n",
        "\n",
        "if texto_normal == texto_normal[::-1]:\n",
        "    print(\"É Palíndromo\")\n",
        "else:\n",
        "    print(\"Não é Palíndromo\")"
      ],
      "metadata": {
        "colab": {
          "base_uri": "https://localhost:8080/"
        },
        "id": "E9SiA8gOH5uH",
        "outputId": "4cfbc0c4-4881-4ea4-a89f-69f00c46de7e"
      },
      "execution_count": null,
      "outputs": [
        {
          "output_type": "stream",
          "name": "stdout",
          "text": [
            "Digite uma palavra: Eu\n",
            "Não é Palíndromo\n"
          ]
        }
      ]
    },
    {
      "cell_type": "code",
      "source": [
        "# AULA 5 - Contar vogais\n",
        "palavra = input(\"Digite uma frase: \").lower()\n",
        "\n",
        "vogais = \"aeiou\"\n",
        "cont_vogais = 0\n",
        "\n",
        "for c in palavra:\n",
        "    if c.isalpha():\n",
        "        if c in vogais:\n",
        "            cont_vogais += 1\n",
        "\n",
        "\n",
        "print(f\"Número de Vogais: {cont_vogais}\")"
      ],
      "metadata": {
        "colab": {
          "base_uri": "https://localhost:8080/"
        },
        "id": "50QndRyDQfi1",
        "outputId": "4f29856e-0ce1-4e71-a02c-086638bb72fd"
      },
      "execution_count": null,
      "outputs": [
        {
          "output_type": "stream",
          "name": "stdout",
          "text": [
            "Digite uma frase: Edivan\n",
            "Número de Vogais: 3\n"
          ]
        }
      ]
    },
    {
      "cell_type": "code",
      "source": [
        "# AULA 6 Dia 23/08/2025\n",
        "\n",
        "for i in range(1,6):\n",
        "  nota = float(input(f\"Digite a nota{i}:\"))"
      ],
      "metadata": {
        "colab": {
          "base_uri": "https://localhost:8080/"
        },
        "id": "odx2R-Ul-UFQ",
        "outputId": "aab9d8f0-b25d-4da8-b1dd-1aedfcbdccb4"
      },
      "execution_count": null,
      "outputs": [
        {
          "name": "stdout",
          "output_type": "stream",
          "text": [
            "Digite a nota1:5\n",
            "Digite a nota2:4\n",
            "Digite a nota3:10\n",
            "Digite a nota4:10\n",
            "Digite a nota5:50\n"
          ]
        }
      ]
    },
    {
      "cell_type": "code",
      "source": [
        "#AULA 6 : Calculadora Média\n",
        "\n",
        "nota1 = float(input(\"Nota 1:\")\n",
        "        +float(input(\"Nota 2:\"))\n",
        "        +float(input(\"Nota 3:\"))\n",
        "        +float(input(\"Nota 4:\"))\n",
        "        +float(input(\"Nota 5:\")))\n",
        "\n",
        "\n",
        "media = nota1/5\n",
        "\n",
        "print(\"Média Final:\", media)\n",
        "\n",
        "if media < 7:\n",
        "  print(\"Aluno Reprovado\")\n",
        "else: print(\"Aluno Aprovado\")"
      ],
      "metadata": {
        "colab": {
          "base_uri": "https://localhost:8080/",
          "height": 255
        },
        "id": "V0fniMc6GnPe",
        "outputId": "b6b3bc1d-1532-4103-c971-c0351bea3026"
      },
      "execution_count": null,
      "outputs": [
        {
          "name": "stdout",
          "output_type": "stream",
          "text": [
            "Nota 1:10\n",
            "Nota 2:10\n"
          ]
        },
        {
          "output_type": "error",
          "ename": "TypeError",
          "evalue": "can only concatenate str (not \"float\") to str",
          "traceback": [
            "\u001b[0;31m---------------------------------------------------------------------------\u001b[0m",
            "\u001b[0;31mTypeError\u001b[0m                                 Traceback (most recent call last)",
            "\u001b[0;32m/tmp/ipython-input-3369333651.py\u001b[0m in \u001b[0;36m<cell line: 0>\u001b[0;34m()\u001b[0m\n\u001b[1;32m      1\u001b[0m \u001b[0;31m#AULA 6 : Calculadora Média\u001b[0m\u001b[0;34m\u001b[0m\u001b[0;34m\u001b[0m\u001b[0m\n\u001b[1;32m      2\u001b[0m \u001b[0;34m\u001b[0m\u001b[0m\n\u001b[0;32m----> 3\u001b[0;31m nota1 = float(input(\"Nota 1:\")\n\u001b[0m\u001b[1;32m      4\u001b[0m         \u001b[0;34m+\u001b[0m\u001b[0mfloat\u001b[0m\u001b[0;34m(\u001b[0m\u001b[0minput\u001b[0m\u001b[0;34m(\u001b[0m\u001b[0;34m\"Nota 2:\"\u001b[0m\u001b[0;34m)\u001b[0m\u001b[0;34m)\u001b[0m\u001b[0;34m\u001b[0m\u001b[0;34m\u001b[0m\u001b[0m\n\u001b[1;32m      5\u001b[0m         \u001b[0;34m+\u001b[0m\u001b[0mfloat\u001b[0m\u001b[0;34m(\u001b[0m\u001b[0minput\u001b[0m\u001b[0;34m(\u001b[0m\u001b[0;34m\"Nota 3:\"\u001b[0m\u001b[0;34m)\u001b[0m\u001b[0;34m)\u001b[0m\u001b[0;34m\u001b[0m\u001b[0;34m\u001b[0m\u001b[0m\n",
            "\u001b[0;31mTypeError\u001b[0m: can only concatenate str (not \"float\") to str"
          ]
        }
      ]
    },
    {
      "cell_type": "code",
      "source": [
        "from collections import Deque\n",
        "\n",
        "fila = deque()\n",
        "\n",
        "for i range(3):\n",
        "  nome = input(f\"Digite o nome da Pessoa: {i}\")\n",
        "  fila.append(nome)\n",
        "\n",
        "  print(\"Fila:\",fila)\n",
        "\n",
        "  while fila:\n",
        "     print(\"Fila:\",fila)"
      ],
      "metadata": {
        "colab": {
          "base_uri": "https://localhost:8080/",
          "height": 110
        },
        "id": "b1lvHYTOLTcR",
        "outputId": "dfc6768d-2a8a-4455-eaa3-6f482caab056"
      },
      "execution_count": null,
      "outputs": [
        {
          "output_type": "error",
          "ename": "SyntaxError",
          "evalue": "invalid syntax (ipython-input-3553902480.py, line 5)",
          "traceback": [
            "\u001b[0;36m  File \u001b[0;32m\"/tmp/ipython-input-3553902480.py\"\u001b[0;36m, line \u001b[0;32m5\u001b[0m\n\u001b[0;31m    for i range(3):\u001b[0m\n\u001b[0m          ^\u001b[0m\n\u001b[0;31mSyntaxError\u001b[0m\u001b[0;31m:\u001b[0m invalid syntax\n"
          ]
        }
      ]
    },
    {
      "cell_type": "code",
      "source": [
        "#PILHA\n",
        "from collections import deque\n",
        "\n",
        "pilha = deque()\n",
        "\n",
        "pilha.append(\"A\")\n",
        "pilha.append(\"B\")\n",
        "pilha.append(\"C\")\n",
        "\n",
        "print(pilha)\n",
        "\n",
        "pilha.pop()\n",
        "print(\"Removendo:\", pilha)"
      ],
      "metadata": {
        "colab": {
          "base_uri": "https://localhost:8080/"
        },
        "id": "oKre2SHAMgXg",
        "outputId": "56d4a69c-03c1-4770-a799-f14a949099b6"
      },
      "execution_count": null,
      "outputs": [
        {
          "output_type": "stream",
          "name": "stdout",
          "text": [
            "deque(['A', 'B', 'C'])\n",
            "Removendo: deque(['A', 'B'])\n"
          ]
        }
      ]
    },
    {
      "cell_type": "code",
      "source": [
        "#Criando pilha de 3 tarefas a fazer, depois remova as tarefas:\n",
        "pilha = deque()\n",
        "\n",
        "pilha.append(\"Estudar\")\n",
        "pilha.append(\"Comer\")\n",
        "pilha.append(\"Trabalhar\")\n",
        "\n",
        "print(pilha)\n",
        "\n",
        "pilha.pop()\n",
        "print(\"Removendo 1:\", pilha)\n",
        "\n",
        "pilha.pop()\n",
        "print(\"Removendo 2:\", pilha)\n",
        "\n",
        "pilha.pop()\n",
        "print(\"Removendo 3:\", pilha)\n"
      ],
      "metadata": {
        "colab": {
          "base_uri": "https://localhost:8080/"
        },
        "id": "DqWCe2FNOrHb",
        "outputId": "3decfe50-2a64-4379-df76-a7889ccf6169"
      },
      "execution_count": null,
      "outputs": [
        {
          "output_type": "stream",
          "name": "stdout",
          "text": [
            "deque(['Estudar', 'Comer', 'Trabalhar'])\n",
            "Removendo 1: deque(['Estudar', 'Comer'])\n",
            "Removendo 2: deque(['Estudar'])\n",
            "Removendo 3: deque([])\n"
          ]
        }
      ]
    },
    {
      "cell_type": "code",
      "source": [
        "#Simulação de pagina de computador:\n",
        "pilha = deque()\n",
        "\n",
        "pilha.append(\"Meu Computador>\")\n",
        "pilha.append(\"DISCO C>\")\n",
        "pilha.append(\"Arquivos e progamas\")\n",
        "\n",
        "print(pilha)\n",
        "\n",
        "pilha.pop()\n",
        "print(\"Removendo 1:\", pilha)\n",
        "\n",
        "pilha.pop()\n",
        "print(\"Removendo 2:\", pilha)"
      ],
      "metadata": {
        "colab": {
          "base_uri": "https://localhost:8080/"
        },
        "id": "zdTYh1PxOw8n",
        "outputId": "1104d28c-6d3f-4afd-f0ec-61a2deee6222"
      },
      "execution_count": null,
      "outputs": [
        {
          "output_type": "stream",
          "name": "stdout",
          "text": [
            "01: Ana Nota: 8.5 Aluno Aprovado\n",
            "02: Pedro Nota: 6.0 Aluno Reprovado\n",
            "03: Clara Nota: 4.5 Aluno Reprovado\n",
            "04: Miguel Nota: 7.5 Aluno Aprovado\n"
          ]
        }
      ]
    },
    {
      "cell_type": "code",
      "source": [
        "#criando uma pilha de numeros, somando todos e depois excluindo 1 por 1:\n",
        "#Criando pilha de 3 tarefas a fazer, depois remova as tarefas:\n",
        "pilha = deque()\n",
        "\n",
        "for i in range(1,6):\n",
        "  pilha = deque()\n",
        "  pilha.append(i)\n",
        "  print(pilha)\n"
      ],
      "metadata": {
        "colab": {
          "base_uri": "https://localhost:8080/"
        },
        "id": "paSDLgYlRJK6",
        "outputId": "e14f1eae-4970-4bf9-cafa-b886d3a663ce"
      },
      "execution_count": null,
      "outputs": [
        {
          "output_type": "stream",
          "name": "stdout",
          "text": [
            "deque([1])\n",
            "deque([2])\n",
            "deque([3])\n",
            "deque([4])\n",
            "deque([5])\n"
          ]
        }
      ]
    },
    {
      "cell_type": "code",
      "source": [
        "#\n",
        "\n",
        "pilha = [1 , 2 , 3 , 4 , 5]\n",
        "\n",
        "for i range(len(pilha) > 0):\n",
        "  valor = pilha.pop()\n",
        "  soma += valor\n",
        "  print(\"Valor: \",valor)\n",
        "\n",
        "\n"
      ],
      "metadata": {
        "colab": {
          "base_uri": "https://localhost:8080/",
          "height": 110
        },
        "id": "hJr6i4XcR-Uq",
        "outputId": "072eb03e-b4b0-4218-cefe-cdc9d2928ec9"
      },
      "execution_count": null,
      "outputs": [
        {
          "output_type": "error",
          "ename": "SyntaxError",
          "evalue": "invalid syntax (ipython-input-2032526256.py, line 5)",
          "traceback": [
            "\u001b[0;36m  File \u001b[0;32m\"/tmp/ipython-input-2032526256.py\"\u001b[0;36m, line \u001b[0;32m5\u001b[0m\n\u001b[0;31m    for i range(len(pilha) > 0):\u001b[0m\n\u001b[0m          ^\u001b[0m\n\u001b[0;31mSyntaxError\u001b[0m\u001b[0;31m:\u001b[0m invalid syntax\n"
          ]
        }
      ]
    },
    {
      "cell_type": "code",
      "source": [
        "#DICIONARIO:\n",
        "\n",
        "Aluno = {\n",
        "    \"Aluno\": \"João\",\n",
        "    \"Curso\": \"Python\",\n",
        "    \"Idade\": 30\n",
        "}\n",
        "\n",
        "print(Aluno)"
      ],
      "metadata": {
        "colab": {
          "base_uri": "https://localhost:8080/"
        },
        "id": "pkdsG7_qUGpG",
        "outputId": "17256e6e-5664-44ea-b4f5-2b18cc7daa9f"
      },
      "execution_count": null,
      "outputs": [
        {
          "output_type": "stream",
          "name": "stdout",
          "text": [
            "{'Aluno': 'João', 'Curso': 'Python', 'Idade': 30}\n"
          ]
        }
      ]
    },
    {
      "cell_type": "code",
      "source": [
        "#Iterando dicionario:\n",
        "for chave in aluno\n",
        "Aluno = {\n",
        "    \"Aluno\": \"João\",\n",
        "    \"Curso\": \"Python\",\n",
        "    \"Idade\": 30\n",
        "}\n",
        "\n",
        "for i in Aluno:\n",
        "  print(i)"
      ],
      "metadata": {
        "id": "v0LC7MbUUIe9"
      },
      "execution_count": null,
      "outputs": []
    },
    {
      "cell_type": "code",
      "source": [
        "#DICIONARIO DE CARRO.\n",
        "\n",
        "carro = {\n",
        "    \"Marca\": \"Ford\",\n",
        "    \"Modelo\": \"Mustang\",\n",
        "    \"Ano\": 1964\n",
        "}\n",
        "\n",
        "print(carro[\"Modelo\"])"
      ],
      "metadata": {
        "colab": {
          "base_uri": "https://localhost:8080/"
        },
        "id": "bD5IYwxeYdZD",
        "outputId": "5fe9a325-a3a0-4103-ae55-719866a0ce1d"
      },
      "execution_count": null,
      "outputs": [
        {
          "output_type": "stream",
          "name": "stdout",
          "text": [
            "Mustang\n"
          ]
        }
      ]
    },
    {
      "cell_type": "code",
      "source": [
        "#DICIONARIO NOME DE 3 PESSOAS:\n",
        "\n",
        "Pessoas = {\n",
        "    \"Pessoa\": [\"João\",\"Maria\",\"Pedro\"],\n",
        "    \"Idade\": [10, 20,30]\n",
        "}\n",
        "\n",
        "print(Pessoas)"
      ],
      "metadata": {
        "colab": {
          "base_uri": "https://localhost:8080/"
        },
        "id": "5XosplCsY0_M",
        "outputId": "1dc191c0-fae6-4b14-f431-ee470026868d"
      },
      "execution_count": null,
      "outputs": [
        {
          "output_type": "stream",
          "name": "stdout",
          "text": [
            "{'Pessoa': ['João', 'Maria', 'Pedro'], 'Idade': [10, 20, 30]}\n"
          ]
        }
      ]
    },
    {
      "cell_type": "code",
      "source": [
        "#DICIONARIO NOME DE 3 PESSOAS: com laço\n",
        "#pessoas{}\n",
        "\n",
        "for i range(3):\n",
        "    nome = input(\"Pessoa:\")\n",
        "    idade = int(input(\"Idade: \"))\n",
        "    pessoas[nome] = idade\n",
        "    print(pessoas)"
      ],
      "metadata": {
        "colab": {
          "base_uri": "https://localhost:8080/",
          "height": 110
        },
        "id": "4sEVwNNJZaIC",
        "outputId": "b587554a-52c7-4b98-c07c-0e0f810e9c50"
      },
      "execution_count": null,
      "outputs": [
        {
          "output_type": "error",
          "ename": "SyntaxError",
          "evalue": "invalid syntax (ipython-input-2907598760.py, line 4)",
          "traceback": [
            "\u001b[0;36m  File \u001b[0;32m\"/tmp/ipython-input-2907598760.py\"\u001b[0;36m, line \u001b[0;32m4\u001b[0m\n\u001b[0;31m    for i range(3):\u001b[0m\n\u001b[0m          ^\u001b[0m\n\u001b[0;31mSyntaxError\u001b[0m\u001b[0;31m:\u001b[0m invalid syntax\n"
          ]
        }
      ]
    },
    {
      "cell_type": "code",
      "source": [
        "#Criar uma fila de atendimento de Alunos com suas notas e analise se estão aprovados ou não:\n",
        "\n",
        "fila = deque([{\"Nome\": \"Ana\", \"Nota:\": 8.5},\n",
        "              {\"Nome\": \"Pedro\", \"Nota:\": 6.0},\n",
        "              {\"Nome\": \"Clara\", \"Nota:\": 4.5},\n",
        "              {\"Nome\": \"Miguel\", \"Nota:\": 7.5}\n",
        "              ])\n",
        "\n",
        "print(fila)\n",
        "\n"
      ],
      "metadata": {
        "colab": {
          "base_uri": "https://localhost:8080/"
        },
        "id": "YoeFrQhZaz8y",
        "outputId": "4154b9a9-a7ba-4c43-ed67-2dbd965d6442"
      },
      "execution_count": null,
      "outputs": [
        {
          "output_type": "stream",
          "name": "stdout",
          "text": [
            "deque([{'Nome': 'Ana', 'Nota:': 8.5}, {'Nome': 'Pedro', 'Nota:': 6.0}, {'Nome': 'Clara', 'Nota:': 4.5}, {'Nome': 'Miguel', 'Nota:': 7.5}])\n"
          ]
        }
      ]
    },
    {
      "cell_type": "code",
      "source": [
        "#Criar uma fila de atendimento de Alunos com suas notas e analise se estão aprovados ou não:\n",
        "fila = deque([{\"Nome\": \"Ana\", \"Nota\": 8.5},\n",
        "              {\"Nome\": \"Pedro\", \"Nota\": 6.0},\n",
        "              {\"Nome\": \"Clara\", \"Nota\": 4.5},\n",
        "              {\"Nome\": \"Miguel\", \"Nota\": 7.5}\n",
        "              ])\n",
        "\n",
        "for i, aluno in enumerate(fila):\n",
        "  status = \"Aluno Aprovado\" if aluno[\"Nota\"] >= 7 else \"Aluno Reprovado\"\n",
        "  print(f\"{i+1}: Aluno: {aluno['Nome']} Nota: {aluno['Nota']} {status}\")"
      ],
      "metadata": {
        "colab": {
          "base_uri": "https://localhost:8080/"
        },
        "id": "oR0DC68TceiL",
        "outputId": "d06e3dec-78b1-4879-8dbb-17add5afb623"
      },
      "execution_count": null,
      "outputs": [
        {
          "output_type": "stream",
          "name": "stdout",
          "text": [
            "1: Aluno: Ana Nota: 8.5 Aluno Aprovado\n",
            "2: Aluno: Pedro Nota: 6.0 Aluno Reprovado\n",
            "3: Aluno: Clara Nota: 4.5 Aluno Reprovado\n",
            "4: Aluno: Miguel Nota: 7.5 Aluno Aprovado\n"
          ]
        }
      ]
    },
    {
      "cell_type": "code",
      "source": [
        "#AULA 7 - 29/08/2025\n",
        "\n",
        "#Questão 1\n",
        "print(\"Questão 1:\")\n",
        "dicionario = {\n",
        "    \"nome\": \"Maria\",\n",
        "    \"idade\": 20,\n",
        "    \"curso\": \"Engenharia\"\n",
        "}\n",
        "\n",
        "\n",
        "print(dicionario[\"nome\"])\n",
        "print(dicionario[\"idade\"])\n",
        "print(dicionario[\"curso\"])\n",
        "\n",
        "#Questão 2\n",
        "print(\"Questão 2:\")\n",
        "agenda = {\n",
        "    \"Maria\": ((\"(83) 9999-9999\", \"maria@gmail.com\")),\n",
        "    \"João\": ((\"(83) 8888-8888\", \"joao@gmail.com\")),\n",
        "    \"Ana\": ((\"(83) 7777-7777\", \"ana@gmail.com\"))\n",
        "}\n",
        "\n",
        "for nome, dados in agenda.items():\n",
        "    telefone, email = dados\n",
        "\n",
        "\n",
        "print(f\"{nome} - Telefone: {telefone} | Email: {email}\")\n",
        "\n",
        "#Questão 3\n",
        "print(\"Questão 3:\")\n",
        "cidades = {\n",
        "    ((-20.22, -35.9)): \"São Paulo\",\n",
        "    ((-8.25, -40.8)): \"Recife\",\n",
        "    ((-7.22, -35.9)): \"Campina Grande\"\n",
        "}\n",
        "\n",
        "for coor, cid in cidades.items():\n",
        "    lat, lon = coor\n",
        "\n",
        "\n",
        "print(f\"Cidade: {cid} - Coordenadas: {coor}\")\n",
        "\n",
        "\n",
        "#Questão 4:\n",
        "print(\"Questão 4:\")\n",
        "nota = {\n",
        "    \"Maria\": ((5,10,8)),\n",
        "    \"João\": ((4,7,5 )),\n",
        "    \"Ana\": ((10,8,9 ))\n",
        "}\n",
        "\n",
        "for nome, notas in nota.items():\n",
        "    p1,p2,p3 = notas\n",
        "    media = sum(notas)/3\n",
        "\n",
        "\n",
        "print(f\"Aluno(a): {nome} | Notas: {notas}| Média: {media}\")\n",
        "\n",
        "#QUESTÃO 5\n",
        "print(\"Questão 5:\")\n",
        "\n",
        "precos = {\n",
        "    ((\"Camisa\", \"M\")): \"40 R$\",\n",
        "    ((\"Calça\", \"G\")): \"120 R$\",\n",
        "    ((\"Sapato\", 42)): \"200 R$\"\n",
        "}\n",
        "\n",
        "for lis, prec in precos.items():\n",
        "    prod, tam = lis\n",
        "\n",
        "\n",
        "print(f\"Produto: {lis} - Valor: {lis}\")\n",
        "\n",
        "\n",
        "#QUESTÃO 7\n",
        "notas = {\n",
        "    (\"Ana\", \"Matemática\"): 9,\n",
        "    (\"Ana\", \"História\"): 7,\n",
        "    (\"Ana\", \"Geografia\"): 8\n",
        "}\n",
        "aluno = input(\"Digite o nome do aluno: \")\n",
        "\n",
        "notas = {disciplina: nota for (aluno, disciplina), nota in notas.items() if aluno == nome_aluno}\n",
        "\n",
        "if notas_aluno:\n",
        "    print(f\"\\nNotas de {aluno}:\")\n",
        "    for disciplina, nota in notas.items():\n",
        "        print(f\"{disciplina}: {nota}\")\n",
        "\n",
        "    media = sum(notas_aluno.values()) / len(notas_aluno)\n",
        "    print(f\"Média geral: {media:.2f}\")\n",
        "else:\n",
        "    print(f\"Nenhuma nota encontrada para '{nome_aluno}'.\")\n"
      ],
      "metadata": {
        "colab": {
          "base_uri": "https://localhost:8080/"
        },
        "id": "edIxtmJpDK5N",
        "outputId": "284a7316-bfcd-4343-b28e-dcabbfb622df"
      },
      "execution_count": 50,
      "outputs": [
        {
          "output_type": "stream",
          "name": "stdout",
          "text": [
            "Questão 1:\n",
            "Maria\n",
            "20\n",
            "Engenharia\n",
            "Questão 2:\n",
            "Ana - Telefone: (83) 7777-7777 | Email: ana@gmail.com\n",
            "Questão 3:\n",
            "Cidade: Campina Grande - Coordenadas: (-7.22, -35.9)\n",
            "Questão 4:\n",
            "Aluno(a): Ana | Notas: (10, 8, 9)| Média: 9.0\n",
            "Questão 5:\n",
            "Produto: ('Sapato', 42) - Valor: ('Sapato', 42)\n",
            "Digite o nome do aluno: Maria\n",
            "\n",
            "Notas de Maria:\n",
            "Matemática: 9\n",
            "História: 7\n",
            "Geografia: 8\n",
            "Média geral: 8.00\n"
          ]
        }
      ]
    }
  ]
}