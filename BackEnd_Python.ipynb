{
  "nbformat": 4,
  "nbformat_minor": 0,
  "metadata": {
    "colab": {
      "provenance": [],
      "include_colab_link": true
    },
    "kernelspec": {
      "name": "python3",
      "display_name": "Python 3"
    },
    "language_info": {
      "name": "python"
    }
  },
  "cells": [
    {
      "cell_type": "markdown",
      "metadata": {
        "id": "view-in-github",
        "colab_type": "text"
      },
      "source": [
        "<a href=\"https://colab.research.google.com/github/EdivanS96/Colab/blob/main/BackEnd_Python.ipynb\" target=\"_parent\"><img src=\"https://colab.research.google.com/assets/colab-badge.svg\" alt=\"Open In Colab\"/></a>"
      ]
    },
    {
      "cell_type": "code",
      "execution_count": null,
      "metadata": {
        "colab": {
          "base_uri": "https://localhost:8080/"
        },
        "id": "6DgR6dfDuwRV",
        "outputId": "ecd98f7a-1d38-486c-bd99-23274c6a7aeb"
      },
      "outputs": [
        {
          "output_type": "stream",
          "name": "stdout",
          "text": [
            "Olá Mundo\n",
            "8\n",
            "45\n",
            "1.54\n",
            "Irineu\n",
            "True\n",
            "<class 'int'>\n",
            "<class 'float'>\n",
            "<class 'str'>\n",
            "<class 'bool'>\n"
          ]
        }
      ],
      "source": [
        "print(\"Olá Mundo\")\n",
        "print(5+3)\n",
        "\n",
        "#Definindo VAR:idade = 30 #intaltura = 1.54 #floatnome = \"Maria\" # srtmaior_de_idade = True # bool\n",
        "print(idade)\n",
        "print(altura)\n",
        "print(nome)\n",
        "print(maior_de_idade)\n",
        "\n",
        "print(type(idade))\n",
        "print(type(altura))\n",
        "print(type(nome))\n",
        "print(type(maior_de_idade))"
      ]
    },
    {
      "cell_type": "code",
      "source": [
        "#EXERCICIO 1:\n",
        "nome = input(\"Digite seu nome: \")\n",
        "idade = int(input(\"Digite sua Idade: \"))\n",
        "print(nome,\"tem\",idade,\"anos\")\n"
      ],
      "metadata": {
        "colab": {
          "base_uri": "https://localhost:8080/"
        },
        "id": "Dzf9zpPR2gAi",
        "outputId": "7b9a6efb-3b1a-45e4-96d8-bc1bbaa3b4c7"
      },
      "execution_count": null,
      "outputs": [
        {
          "output_type": "stream",
          "name": "stdout",
          "text": [
            "Digite seu nome: João\n",
            "Digite sua Idade: 15\n",
            "João tem 15 anos\n"
          ]
        }
      ]
    },
    {
      "cell_type": "code",
      "source": [
        "#EXERCICIO 2:\n",
        "\n",
        "def somar(numero1,numero2):\n",
        "    return numero1 + numero2;\n",
        "\n",
        "print(\"Calculadora basica\")\n",
        "\n",
        "numero1 = float(input(\"Informe o primeiro número:\"))\n",
        "numero2 = float(input(\"Informe o segundo número:\"))\n",
        "\n",
        "print(\"RESULTADO:\", somar(numero1,numero2))"
      ],
      "metadata": {
        "colab": {
          "base_uri": "https://localhost:8080/"
        },
        "id": "fDk28_dK5uNp",
        "outputId": "7871f780-5455-4c38-e3b1-be86e89c0ba7"
      },
      "execution_count": null,
      "outputs": [
        {
          "output_type": "stream",
          "name": "stdout",
          "text": [
            "Calculadora basica\n",
            "Informe o primeiro número:5\n",
            "Informe o segundo número:4\n",
            "RESULTADO: 9.0\n"
          ]
        }
      ]
    },
    {
      "cell_type": "code",
      "source": [
        "#EXERCICIO 3:\n",
        "\n",
        "def somar(numero1, numero2):\n",
        "  return numero1 + numero2;\n",
        "\n",
        "def subtrair(numero1, numero2):\n",
        "  return numero1 - numero2;\n",
        "\n",
        "def multiplicar(numero1, numero2):\n",
        "  return numero1 * numero2;\n",
        "\n",
        "def dividir(numero1, numero2):\n",
        "  if numero2 == 0:\n",
        "    return \"Erro\"\n",
        "  return numero1 / numero2;\n",
        "\n",
        "\n",
        "print(\"Escolha uma operação:\")\n",
        "print(\"1 para Somar\")\n",
        "print(\"2 para Subtrair\")\n",
        "print(\"3 para Multiplicar\")\n",
        "print(\"4 para Dividir\")\n",
        "\n",
        "ope = int(input(\"Digite o número da operação:\"))\n",
        "\n",
        "numero1=float(input(\"Informe o primeiro número:\"))\n",
        "numero2=float(input(\"Informe o segundo número:\"))\n",
        "\n",
        "resultado = ope\n",
        "if ope == 1:\n",
        "  resultado = somar(numero1, numero2)\n",
        "elif ope == 2:\n",
        "  resultado = subtrair(numero1, numero2)\n",
        "elif ope == 3:\n",
        "  resultado = multiplicar(numero1, numero2)\n",
        "elif ope == 4:\n",
        "  resultado = dividir(numero1, numero2)\n",
        "else:\n",
        "  resultado = \"Erro divisão por ZERO\";\n",
        "\n",
        "\n",
        "print(\"RESULTADO:\", resultado)\n",
        "\n",
        "\n",
        "\n"
      ],
      "metadata": {
        "colab": {
          "base_uri": "https://localhost:8080/"
        },
        "id": "Nt5YkylP7y6p",
        "outputId": "853f512e-9a8a-457e-8992-49adc99e9411"
      },
      "execution_count": null,
      "outputs": [
        {
          "output_type": "stream",
          "name": "stdout",
          "text": [
            "Escolha uma operação:\n",
            "1 para Somar\n",
            "2 para Subtrair\n",
            "3 para Multiplicar\n",
            "4 para Dividir\n",
            "Digite o número da operação:4\n",
            "Informe o primeiro número:5\n",
            "Informe o segundo número:2\n",
            "RESULTADO: 2.5\n"
          ]
        }
      ]
    },
    {
      "cell_type": "code",
      "source": [
        "# AULA 4 - Crianção de laços e repetições\n",
        "\n",
        "#RANGE:\n",
        "\n",
        "#função range: , range(fim),range(inico,fim), range(inicio,fim,pulando)\n",
        "for i in range(2,10,2):\n",
        "  print(\"i\",i)\n",
        "\n",
        "nome = \"João\"\n",
        "idade = 45\n",
        "\n",
        "print(f\"Nome: {nome} e Idade: {idade}\")"
      ],
      "metadata": {
        "colab": {
          "base_uri": "https://localhost:8080/"
        },
        "id": "Je4K8ZJFFCfd",
        "outputId": "1571f009-727f-41f6-dd80-2ea480216385"
      },
      "execution_count": null,
      "outputs": [
        {
          "output_type": "stream",
          "name": "stdout",
          "text": [
            "i 2\n",
            "i 4\n",
            "i 6\n",
            "i 8\n",
            "Nome: João e Idade: 45\n"
          ]
        }
      ]
    },
    {
      "cell_type": "code",
      "source": [
        "#TAREFA DE CASA (Calculadora Média)\n",
        "\n",
        "nota1 = float(input(\"Digite a nota 1:\"))\n",
        "nota2 = float(input(\"Digite a nota 2:\"))\n",
        "nota3 = float(input(\"Digite a nota 3:\"))\n",
        "\n",
        "media = (nota1 + nota2 + nota3)/3\n",
        "\n",
        "print(\"Média Final:\", media)\n",
        "\n",
        "if media < 7:\n",
        "  print(\"Aluno Reprovado\")\n",
        "else: print(\"Aluno Aprovado\")"
      ],
      "metadata": {
        "id": "-x12gdzEMur-",
        "colab": {
          "base_uri": "https://localhost:8080/"
        },
        "outputId": "3c437350-d385-4647-ec72-2ca301c7cc9e"
      },
      "execution_count": null,
      "outputs": [
        {
          "output_type": "stream",
          "name": "stdout",
          "text": [
            "Digite a nota 1:10\n",
            "Digite a nota 2:10\n",
            "Digite a nota 3:7\n",
            "Média Final: 9.0\n",
            "Aluno Aprovado\n"
          ]
        }
      ]
    }
  ]
}